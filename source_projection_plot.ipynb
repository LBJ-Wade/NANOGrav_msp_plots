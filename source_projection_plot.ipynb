{
 "cells": [
  {
   "cell_type": "code",
   "execution_count": 1,
   "metadata": {
    "scrolled": true
   },
   "outputs": [
    {
     "ename": "ImportError",
     "evalue": "No module named basemap",
     "output_type": "error",
     "traceback": [
      "\u001b[0;31m\u001b[0m",
      "\u001b[0;31mImportError\u001b[0mTraceback (most recent call last)",
      "\u001b[0;32m<ipython-input-1-21ac1663b748>\u001b[0m in \u001b[0;36m<module>\u001b[0;34m()\u001b[0m\n\u001b[1;32m      8\u001b[0m \u001b[0;31m#import healpy as hp\u001b[0m\u001b[0;34m\u001b[0m\u001b[0;34m\u001b[0m\u001b[0m\n\u001b[1;32m      9\u001b[0m \u001b[0;32mimport\u001b[0m \u001b[0mmatplotlib\u001b[0m\u001b[0;34m.\u001b[0m\u001b[0mpyplot\u001b[0m \u001b[0;32mas\u001b[0m \u001b[0mplt\u001b[0m\u001b[0;34m\u001b[0m\u001b[0m\n\u001b[0;32m---> 10\u001b[0;31m \u001b[0;32mimport\u001b[0m \u001b[0mplot2\u001b[0m\u001b[0;34m\u001b[0m\u001b[0m\n\u001b[0m\u001b[1;32m     11\u001b[0m \u001b[0;32mfrom\u001b[0m \u001b[0mmatplotlib\u001b[0m\u001b[0;34m.\u001b[0m\u001b[0mticker\u001b[0m \u001b[0;32mimport\u001b[0m \u001b[0mFormatter\u001b[0m\u001b[0;34m,\u001b[0m \u001b[0mFixedFormatter\u001b[0m\u001b[0;34m,\u001b[0m \u001b[0mFixedLocator\u001b[0m\u001b[0;34m\u001b[0m\u001b[0m\n\u001b[1;32m     12\u001b[0m \u001b[0;32mfrom\u001b[0m \u001b[0mmatplotlib\u001b[0m \u001b[0;32mimport\u001b[0m \u001b[0mtext\u001b[0m\u001b[0;34m\u001b[0m\u001b[0m\n",
      "\u001b[0;32m/home/jovyan/work/shared/zkomassa/plot2.py\u001b[0m in \u001b[0;36m<module>\u001b[0;34m()\u001b[0m\n\u001b[1;32m     37\u001b[0m \u001b[0;32mfrom\u001b[0m \u001b[0mmatplotlib\u001b[0m\u001b[0;34m.\u001b[0m\u001b[0mtransforms\u001b[0m \u001b[0;32mimport\u001b[0m \u001b[0mTransform\u001b[0m\u001b[0;34m,\u001b[0m \u001b[0mAffine2D\u001b[0m\u001b[0;34m\u001b[0m\u001b[0m\n\u001b[1;32m     38\u001b[0m \u001b[0;32mfrom\u001b[0m \u001b[0mmatplotlib\u001b[0m\u001b[0;34m.\u001b[0m\u001b[0mprojections\u001b[0m\u001b[0;34m.\u001b[0m\u001b[0mgeo\u001b[0m \u001b[0;32mimport\u001b[0m \u001b[0mMollweideAxes\u001b[0m\u001b[0;34m\u001b[0m\u001b[0m\n\u001b[0;32m---> 39\u001b[0;31m \u001b[0;32mfrom\u001b[0m \u001b[0mmpl_toolkits\u001b[0m\u001b[0;34m.\u001b[0m\u001b[0mbasemap\u001b[0m \u001b[0;32mimport\u001b[0m \u001b[0m_geoslib\u001b[0m \u001b[0;32mas\u001b[0m \u001b[0mgeos\u001b[0m\u001b[0;34m\u001b[0m\u001b[0m\n\u001b[0m\u001b[1;32m     40\u001b[0m \u001b[0;32mfrom\u001b[0m \u001b[0mmatplotlib\u001b[0m \u001b[0;32mimport\u001b[0m \u001b[0mpyplot\u001b[0m \u001b[0;32mas\u001b[0m \u001b[0mplt\u001b[0m\u001b[0;34m\u001b[0m\u001b[0m\n\u001b[1;32m     41\u001b[0m \u001b[0;32mimport\u001b[0m \u001b[0mnumpy\u001b[0m \u001b[0;32mas\u001b[0m \u001b[0mnp\u001b[0m\u001b[0;34m\u001b[0m\u001b[0m\n",
      "\u001b[0;31mImportError\u001b[0m: No module named basemap"
     ]
    }
   ],
   "source": [
    "%matplotlib inline\n",
    "\n",
    "from __future__ import division\n",
    "import numpy as np\n",
    "import glob\n",
    "from astropy import units as u\n",
    "from astropy.coordinates import SkyCoord\n",
    "#import healpy as hp\n",
    "import matplotlib.pyplot as plt\n",
    "import plot2\n",
    "from matplotlib.ticker import Formatter, FixedFormatter, FixedLocator\n",
    "from matplotlib import text\n",
    "import ephem\n"
   ]
  },
  {
   "cell_type": "code",
   "execution_count": null,
   "metadata": {
    "collapsed": true
   },
   "outputs": [],
   "source": [
    "# Import data from a text file (using RA and DEC in two columns)\n",
    "\n",
    "# Give the correct path to your data file:\n",
    "psr_positions = np.loadtxt('/Users/Zach/Desktop/nanograv_plots/nanograv_sources_11-2017.txt', usecols=(0,1))\n",
    "\n",
    "c = SkyCoord(ra=psr_positions[:,0]*u.degree, dec=psr_positions[:,1]*u.degree, frame='icrs')\n",
    "\n",
    "print c.ra.radian, c.dec.radian\n"
   ]
  },
  {
   "cell_type": "code",
   "execution_count": null,
   "metadata": {
    "collapsed": true
   },
   "outputs": [],
   "source": [
    "#define galactic plane function\n",
    "\n",
    "def plot_mwd(RA,Dec, org = 0, projection='astro mollweide'):\n",
    "    ''' RA, Dec are arrays of the same length.\n",
    "    RA takes values in [0,360), Dec in [-90,90],\n",
    "    which represent angles in degrees.\n",
    "    org is the origin of the plot, 0 or a multiple of 30 degrees in [0,360).\n",
    "    title is the title of the figure.\n",
    "    projection is the kind of projection: 'mollweide', 'aitoff', 'hammer', 'lambert'\n",
    "    '''\n",
    "    x = np.remainder(RA+360-org,360) # shift RA values\n",
    "    ind = x>180\n",
    "    x[ind] -=360    # scale conversion to [-180, 180]\n",
    "    x=-x    \n",
    "    x = SkyCoord(ra=RA*u.degree, dec=Dec*u.degree, frame='icrs')# reverse the scale: East to the left\n",
    "    #tick_labels = np.array([150, 120, 90, 60, 30, 0, 330, 300, 270, 240, 210])\n",
    "    #tick_labels = np.remainder(tick_labels+360+org,360)\n",
    "#     fig = plt.figure(figsize=(10, 5))\n",
    "#     ax = fig.add_subplot(111, projection=projection, axisbg ='LightCyan')\n",
    "    ax.plot(x.ra.radian,x.dec.radian)  # convert degrees to radians\n",
    "#     ax.set_xticklabels(tick_labels)     # we add the scale on the x axis\n",
    "#     ax.set_title(title)\n",
    "#     ax.title.set_fontsize(15)\n",
    "#     ax.set_xlabel(\"RA\")\n",
    "#     ax.xaxis.label.set_fontsize(12)\n",
    "#     ax.set_ylabel(\"Dec\")\n",
    "#     ax.yaxis.label.set_fontsize(12)\n",
    "#     ax.grid(True)"
   ]
  },
  {
   "cell_type": "code",
   "execution_count": null,
   "metadata": {
    "collapsed": true
   },
   "outputs": [],
   "source": [
    "# plotting function stolen from bayestar; modified so axes are sent back \n",
    "\n",
    "def outline_text(ax):\n",
    "    \"\"\"If we are using a new enough version of matplotlib, then\n",
    "    add a white outline to all text to make it stand out from the background.\"\"\"\n",
    "    try:\n",
    "        # Try to import matplotlib.patheffects (requires matplotlib 1.0+).\n",
    "        from matplotlib import patheffects\n",
    "    except ImportError:\n",
    "        # If import failed, print a warning and do nothing.\n",
    "        warnings.warn(\"This version of matplotlib does not support path effects.\")\n",
    "    else:\n",
    "        # Otherwise, add the path effects.\n",
    "        effects = [patheffects.withStroke(linewidth=2, foreground='w', zorder=2)]\n",
    "        for artist in ax.findobj(text.Text):\n",
    "            artist.set_path_effects(effects)\n",
    "            \n",
    "\n",
    "            "
   ]
  },
  {
   "cell_type": "code",
   "execution_count": null,
   "metadata": {
    "collapsed": true
   },
   "outputs": [],
   "source": [
    "# plotting parameters to gussy things up a li'l\n",
    "\n",
    "def figsize(scale):\n",
    "    fig_width_pt = 513.17 #469.755    # Get this from LaTeX using \\the\\textwidth\n",
    "    inches_per_pt = 1.0 / 72.27         # Convert pt to inch\n",
    "    golden_mean = (np.sqrt(5.0)-1.0)/2.0    # Aesthetic ratio\n",
    "    fig_width = fig_width_pt * inches_per_pt * scale  # width in inches\n",
    "    fig_height = fig_width * golden_mean              # height in inches\n",
    "    fig_size = [fig_width, fig_height]\n",
    "    return fig_size\n",
    "            \n",
    "\n",
    "plt.rcParams.update(plt.rcParamsDefault)\n",
    "params = {'backend': 'pdf',\n",
    "    'axes.labelsize': 10,\n",
    "        'lines.markersize': 4,\n",
    "        'font.size': 10,\n",
    "        'xtick.major.size':6,\n",
    "        'xtick.minor.size':3,\n",
    "        'ytick.major.size':6,\n",
    "        'ytick.minor.size':3,\n",
    "        'xtick.major.width':0.5,\n",
    "        'ytick.major.width':0.5,\n",
    "        'xtick.minor.width':0.5,\n",
    "        'ytick.minor.width':0.5,\n",
    "        'lines.markeredgewidth':1,\n",
    "        'axes.linewidth':1.2,\n",
    "        'legend.fontsize': 7,\n",
    "        'xtick.labelsize': 10,\n",
    "        'ytick.labelsize': 10,\n",
    "        #'savefig.dpi':200,\n",
    "        #'path.simplify':True,\n",
    "        #'font.family': 'serif',\n",
    "        #'font.serif':'Times',\n",
    "        #'text.latex.preamble': [r'\\usepackage{amsmath}'],\n",
    "        #'text.usetex':True,\n",
    "        'figure.figsize': figsize(1)}\n",
    "\n",
    "#plt.rcParams.update(params)"
   ]
  },
  {
   "cell_type": "code",
   "execution_count": null,
   "metadata": {
    "collapsed": true,
    "scrolled": false
   },
   "outputs": [],
   "source": [
    "# create projection\n",
    "ax = plt.subplot(111, projection='astro mollweide')\n",
    "ax.grid()\n",
    "\n",
    "# this makes text easier to see on dark colors \n",
    "#plot2.outline_text(ax)\n",
    "\n",
    "# flip map\n",
    "#h_upper_f = h_upper[flipid]\n",
    "\n",
    "\n",
    "#add labels\n",
    "ax.set_xlabel(\"RA\")\n",
    "ax.set_ylabel(\"Dec\")\n",
    "\n",
    "\n",
    "#add galactic plane\n",
    "lon_array = np.arange(0,360)\n",
    "lat = 0.\n",
    "eq_array = np.zeros((360,2))\n",
    "for lon in lon_array:\n",
    "    ga = ephem.Galactic(np.radians(lon), np.radians(lat))\n",
    "    eq = ephem.Equatorial(ga)\n",
    "    eq_array[lon] = np.degrees(eq.get())\n",
    "RA = eq_array[:,0]\n",
    "Dec = eq_array[:,1]\n",
    "\n",
    "plot_mwd(RA, Dec, 360)\n",
    "\n",
    "\n",
    "# add pulsars, configure marker shapes\n",
    "ax.plot(c.ra.radian,c.dec.radian, \n",
    "        '.', color='b', markersize=10, mew=1.5, mec='k')\n",
    "\n",
    "# change title of the plot\n",
    "plt.title('NANOGrav Source Projection')\n",
    "#plt.suptitle(r'95\\% Characteristic Strain Upper Limit, $h_{95}$', y=0.05)\n",
    "#plt.colorbar(orientation='horizontal', shrink=0.5)\n",
    "plt.show()\n",
    "\n",
    "#plt.savefig('/Users/Zach/Desktop/nanograv_plots/source_projection_plot_1.pdf',bbox_inches='tight',dpi=400)"
   ]
  },
  {
   "cell_type": "code",
   "execution_count": null,
   "metadata": {
    "collapsed": true
   },
   "outputs": [],
   "source": []
  },
  {
   "cell_type": "code",
   "execution_count": null,
   "metadata": {
    "collapsed": true
   },
   "outputs": [],
   "source": []
  },
  {
   "cell_type": "code",
   "execution_count": null,
   "metadata": {
    "collapsed": true
   },
   "outputs": [],
   "source": []
  }
 ],
 "metadata": {
  "anaconda-cloud": {},
  "kernelspec": {
   "display_name": "Python 2",
   "language": "python",
   "name": "python2"
  },
  "language_info": {
   "codemirror_mode": {
    "name": "ipython",
    "version": 2
   },
   "file_extension": ".py",
   "mimetype": "text/x-python",
   "name": "python",
   "nbconvert_exporter": "python",
   "pygments_lexer": "ipython2",
   "version": "2.7.13"
  }
 },
 "nbformat": 4,
 "nbformat_minor": 1
}
